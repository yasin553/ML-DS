{
 "cells": [
  {
   "cell_type": "code",
   "execution_count": 5,
   "id": "1ce517f8",
   "metadata": {},
   "outputs": [
    {
     "name": "stdout",
     "output_type": "stream",
     "text": [
      "4\n",
      "6\n",
      "8\n",
      "10\n",
      "12\n",
      "14\n",
      "16\n",
      "18\n"
     ]
    }
   ],
   "source": [
    "for i in range(4,20,2):\n",
    " print(i)"
   ]
  },
  {
   "cell_type": "code",
   "execution_count": 11,
   "id": "fdb0f221",
   "metadata": {},
   "outputs": [
    {
     "name": "stdout",
     "output_type": "stream",
     "text": [
      "1\n",
      "2\n",
      "3\n",
      "4\n",
      "5\n",
      "7\n",
      "8\n",
      "9\n",
      "10\n",
      "done\n"
     ]
    }
   ],
   "source": [
    "n=1\n",
    "while n <= 10: \n",
    " if n==6:\n",
    "  n = n+1\n",
    "  continue\n",
    " print(n)\n",
    " n=n+1\n",
    "\n",
    "print(\"done\")\n",
    "   "
   ]
  },
  {
   "cell_type": "code",
   "execution_count": 7,
   "id": "fe32af04",
   "metadata": {},
   "outputs": [
    {
     "name": "stdout",
     "output_type": "stream",
     "text": [
      "4\n",
      "6\n",
      "8\n",
      "10\n",
      "12\n",
      "14\n",
      "16\n",
      "18\n"
     ]
    }
   ],
   "source": [
    "for i in range(4,20,2): #(Initialization,condition,post statement)\n",
    " print(i)"
   ]
  },
  {
   "cell_type": "code",
   "execution_count": 15,
   "id": "ae788f11",
   "metadata": {},
   "outputs": [
    {
     "name": "stdout",
     "output_type": "stream",
     "text": [
      "tomato\n",
      "onion\n",
      "potato\n"
     ]
    }
   ],
   "source": [
    "veg= ['tomato','onion','potato']\n",
    "for v in veg:\n",
    " print(v)"
   ]
  },
  {
   "cell_type": "code",
   "execution_count": 16,
   "id": "1687357b",
   "metadata": {},
   "outputs": [
    {
     "ename": "SyntaxError",
     "evalue": "invalid syntax (1304352505.py, line 1)",
     "output_type": "error",
     "traceback": [
      "\u001b[1;36m  Cell \u001b[1;32mIn[16], line 1\u001b[1;36m\u001b[0m\n\u001b[1;33m    dict{'a':'A','b':'B','c':C}\u001b[0m\n\u001b[1;37m        ^\u001b[0m\n\u001b[1;31mSyntaxError\u001b[0m\u001b[1;31m:\u001b[0m invalid syntax\n"
     ]
    }
   ],
   "source": [
    "dict{'a':'A','b':'B','c':C}\n",
    "for letter in dict\n",
    " print(dict.values)"
   ]
  },
  {
   "cell_type": "code",
   "execution_count": 19,
   "id": "76cb1333",
   "metadata": {},
   "outputs": [
    {
     "name": "stdout",
     "output_type": "stream",
     "text": [
      "A\n",
      "B\n",
      "C\n"
     ]
    }
   ],
   "source": [
    "dict={'a':'A','b':'B','c':'C'}\n",
    "for letter in dict.values():\n",
    " print(letter)"
   ]
  },
  {
   "cell_type": "code",
   "execution_count": 22,
   "id": "f7e16dcb",
   "metadata": {},
   "outputs": [
    {
     "name": "stdout",
     "output_type": "stream",
     "text": [
      "18 x 1 = 18\n",
      "18 x 2 = 36\n",
      "18 x 3 = 54\n",
      "18 x 4 = 72\n",
      "18 x 5 = 90\n",
      "18 x 6 = 108\n",
      "18 x 7 = 126\n",
      "18 x 8 = 144\n",
      "18 x 9 = 162\n",
      "18 x 10 = 180\n"
     ]
    }
   ],
   "source": [
    "n=1\n",
    "m=18\n",
    "while n<=10:\n",
    " print(m,'x',n,\"=\",m*n)\n",
    " n=n+1"
   ]
  },
  {
   "cell_type": "code",
   "execution_count": 23,
   "id": "e67d1484",
   "metadata": {},
   "outputs": [
    {
     "name": "stdout",
     "output_type": "stream",
     "text": [
      "112 x 1 = 112\n",
      "112 x 2 = 224\n",
      "112 x 3 = 336\n",
      "112 x 4 = 448\n",
      "112 x 5 = 560\n",
      "112 x 6 = 672\n",
      "112 x 7 = 784\n",
      "112 x 8 = 896\n",
      "112 x 9 = 1008\n",
      "112 x 10 = 1120\n",
      "112 x 11 = 1232\n",
      "112 x 12 = 1344\n",
      "112 x 13 = 1456\n",
      "112 x 14 = 1568\n",
      "112 x 15 = 1680\n"
     ]
    }
   ],
   "source": [
    "n=1\n",
    "s=112\n",
    "while n<= 15:\n",
    " print(s,\"x\",n,\"=\",s*n)\n",
    " n=n+1"
   ]
  },
  {
   "cell_type": "code",
   "execution_count": 24,
   "id": "92ee2c05",
   "metadata": {},
   "outputs": [
    {
     "name": "stdout",
     "output_type": "stream",
     "text": [
      "1\n",
      "2\n",
      "3\n",
      "5\n",
      "6\n"
     ]
    }
   ],
   "source": [
    "numbers=[1,2,3,5,6,9]\n",
    "for n in numbers:\n",
    "    if n<9:\n",
    "        print(n)"
   ]
  },
  {
   "cell_type": "code",
   "execution_count": 28,
   "id": "a80cf4ee",
   "metadata": {},
   "outputs": [
    {
     "ename": "SyntaxError",
     "evalue": "invalid syntax (334081649.py, line 1)",
     "output_type": "error",
     "traceback": [
      "\u001b[1;36m  Cell \u001b[1;32mIn[28], line 1\u001b[1;36m\u001b[0m\n\u001b[1;33m    def my name(\"md easin Arafath\"):\u001b[0m\n\u001b[1;37m           ^\u001b[0m\n\u001b[1;31mSyntaxError\u001b[0m\u001b[1;31m:\u001b[0m invalid syntax\n"
     ]
    }
   ],
   "source": [
    "def my name(\"md easin Arafath\"):\n",
    "    return md easin Arafath\n"
   ]
  },
  {
   "cell_type": "code",
   "execution_count": 37,
   "id": "4c1ea329",
   "metadata": {},
   "outputs": [],
   "source": [
    "def my_Name(Easin):\n",
    "    return Easin"
   ]
  },
  {
   "cell_type": "code",
   "execution_count": 39,
   "id": "adb9af13",
   "metadata": {},
   "outputs": [],
   "source": [
    "t=my_Name('Easin')"
   ]
  },
  {
   "cell_type": "code",
   "execution_count": 41,
   "id": "e0077fbc",
   "metadata": {},
   "outputs": [
    {
     "data": {
      "text/plain": [
       "'Easin'"
      ]
     },
     "execution_count": 41,
     "metadata": {},
     "output_type": "execute_result"
    }
   ],
   "source": [
    "t"
   ]
  },
  {
   "cell_type": "code",
   "execution_count": 42,
   "id": "106149a1",
   "metadata": {},
   "outputs": [],
   "source": [
    "def my_name(name,age,height):\n",
    "    return name,age,height"
   ]
  },
  {
   "cell_type": "code",
   "execution_count": 53,
   "id": "51e85c1c",
   "metadata": {},
   "outputs": [
    {
     "data": {
      "text/plain": [
       "('Easin', '27', '5.8')"
      ]
     },
     "execution_count": 53,
     "metadata": {},
     "output_type": "execute_result"
    }
   ],
   "source": [
    "my_name('Easin','27','5.8')"
   ]
  },
  {
   "cell_type": "code",
   "execution_count": 47,
   "id": "a06402a7",
   "metadata": {},
   "outputs": [],
   "source": [
    "name,age,height=my_name('Easin','27','5.8')"
   ]
  },
  {
   "cell_type": "code",
   "execution_count": 48,
   "id": "eeb6d5ca",
   "metadata": {},
   "outputs": [
    {
     "data": {
      "text/plain": [
       "'27'"
      ]
     },
     "execution_count": 48,
     "metadata": {},
     "output_type": "execute_result"
    }
   ],
   "source": [
    "age"
   ]
  },
  {
   "cell_type": "code",
   "execution_count": 49,
   "id": "34b703bd",
   "metadata": {},
   "outputs": [
    {
     "data": {
      "text/plain": [
       "'5.8'"
      ]
     },
     "execution_count": 49,
     "metadata": {},
     "output_type": "execute_result"
    }
   ],
   "source": [
    "height"
   ]
  },
  {
   "cell_type": "code",
   "execution_count": 50,
   "id": "fd2b5cb6",
   "metadata": {},
   "outputs": [
    {
     "data": {
      "text/plain": [
       "'Easin'"
      ]
     },
     "execution_count": 50,
     "metadata": {},
     "output_type": "execute_result"
    }
   ],
   "source": [
    "name"
   ]
  },
  {
   "cell_type": "code",
   "execution_count": 68,
   "id": "5061b141",
   "metadata": {},
   "outputs": [],
   "source": [
    "def my_name(name,age,height):\n",
    "    return name,age,height\n",
    "   "
   ]
  },
  {
   "cell_type": "code",
   "execution_count": 69,
   "id": "9a74d513",
   "metadata": {},
   "outputs": [
    {
     "data": {
      "text/plain": [
       "('md easin arafat', '27', '5.8')"
      ]
     },
     "execution_count": 69,
     "metadata": {},
     "output_type": "execute_result"
    }
   ],
   "source": [
    "my_name('md easin arafat','27','5.8')"
   ]
  },
  {
   "cell_type": "code",
   "execution_count": 70,
   "id": "d840a55d",
   "metadata": {},
   "outputs": [
    {
     "data": {
      "text/plain": [
       "'md easin arafath'"
      ]
     },
     "execution_count": 70,
     "metadata": {},
     "output_type": "execute_result"
    }
   ],
   "source": [
    "name"
   ]
  },
  {
   "cell_type": "code",
   "execution_count": 107,
   "id": "b2bdd157",
   "metadata": {},
   "outputs": [
    {
     "data": {
      "text/plain": [
       "600"
      ]
     },
     "execution_count": 107,
     "metadata": {},
     "output_type": "execute_result"
    }
   ],
   "source": [
    "def add(a,b):\n",
    "    return a+b\n",
    "adding = add(100,500)\n",
    "adding"
   ]
  },
  {
   "cell_type": "code",
   "execution_count": 97,
   "id": "1dba992b",
   "metadata": {},
   "outputs": [],
   "source": [
    "def add (a,b):\n",
    "    return a+b\n"
   ]
  },
  {
   "cell_type": "code",
   "execution_count": 106,
   "id": "ab2280e1",
   "metadata": {},
   "outputs": [
    {
     "data": {
      "text/plain": [
       "15"
      ]
     },
     "execution_count": 106,
     "metadata": {},
     "output_type": "execute_result"
    }
   ],
   "source": [
    "sum=add (10,5)\n",
    "sum"
   ]
  },
  {
   "cell_type": "code",
   "execution_count": 93,
   "id": "1fad1c69",
   "metadata": {},
   "outputs": [
    {
     "data": {
      "text/plain": [
       "30"
      ]
     },
     "execution_count": 93,
     "metadata": {},
     "output_type": "execute_result"
    }
   ],
   "source": [
    "lambda_add= lambda a,b : a+b\n",
    "lambda_add (20,10)"
   ]
  },
  {
   "cell_type": "code",
   "execution_count": 119,
   "id": "83ffea3d",
   "metadata": {},
   "outputs": [
    {
     "name": "stdout",
     "output_type": "stream",
     "text": [
      "{64, 4, 36, 9, 16, 49, 81, 25}\n"
     ]
    }
   ],
   "source": [
    "i=[2,3,4,5,6,7,8,9]\n",
    "square = lambda n:n*n\n",
    "new= map(square,i)\n",
    "m=set(new)\n",
    "print(m)"
   ]
  },
  {
   "cell_type": "code",
   "execution_count": 122,
   "id": "63e5deaa",
   "metadata": {},
   "outputs": [
    {
     "name": "stdout",
     "output_type": "stream",
     "text": [
      "{16, 1, 4, 9}\n"
     ]
    }
   ],
   "source": [
    "i=[1,2,3,4]\n",
    "cube = lambda n:n*n\n",
    "new = map (cube,i)\n",
    "m=set(new)\n",
    "print(m)\n"
   ]
  },
  {
   "cell_type": "code",
   "execution_count": null,
   "id": "79e787e6",
   "metadata": {},
   "outputs": [],
   "source": []
  }
 ],
 "metadata": {
  "kernelspec": {
   "display_name": "Python 3 (ipykernel)",
   "language": "python",
   "name": "python3"
  },
  "language_info": {
   "codemirror_mode": {
    "name": "ipython",
    "version": 3
   },
   "file_extension": ".py",
   "mimetype": "text/x-python",
   "name": "python",
   "nbconvert_exporter": "python",
   "pygments_lexer": "ipython3",
   "version": "3.10.10"
  }
 },
 "nbformat": 4,
 "nbformat_minor": 5
}
