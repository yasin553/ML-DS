{
 "cells": [
  {
   "cell_type": "code",
   "execution_count": 13,
   "id": "60ea7858",
   "metadata": {},
   "outputs": [],
   "source": [
    "a=10 #maintain indentation means space\n",
    "b=5\n"
   ]
  },
  {
   "cell_type": "code",
   "execution_count": 14,
   "id": "3bfcea72",
   "metadata": {},
   "outputs": [
    {
     "name": "stdout",
     "output_type": "stream",
     "text": [
      "a\n"
     ]
    }
   ],
   "source": [
    "if a>b:\n",
    " print(\"a\")\n",
    "elif a==b:\n",
    " print(\"equal\")\n",
    "else:\n",
    " print(\"b\")\n",
    "\n",
    "\n"
   ]
  },
  {
   "cell_type": "code",
   "execution_count": 16,
   "id": "2a949f73",
   "metadata": {},
   "outputs": [
    {
     "name": "stdout",
     "output_type": "stream",
     "text": [
      "a\n"
     ]
    }
   ],
   "source": [
    "#nested if : logic in a logic\n",
    "c=4\n",
    "if a>b:\n",
    " if a>c:\n",
    "  print('a')\n",
    " else:\n",
    "  print('c')\n",
    "else:\n",
    " if b>c:\n",
    "  print('b')\n",
    " else:\n",
    "  print('c')\n",
    " \n",
    " "
   ]
  },
  {
   "cell_type": "code",
   "execution_count": 6,
   "id": "f92a162a",
   "metadata": {},
   "outputs": [
    {
     "name": "stdout",
     "output_type": "stream",
     "text": [
      "1\n",
      "2\n",
      "3\n",
      "4\n",
      "5\n",
      "6\n",
      "7\n",
      "8\n",
      "9\n",
      "10\n",
      "done\n"
     ]
    }
   ],
   "source": [
    "#loop\n",
    "n=1\n",
    "while n <= 10:\n",
    " print (n)\n",
    " n = n+1\n",
    "print (\"done\")"
   ]
  },
  {
   "cell_type": "code",
   "execution_count": 7,
   "id": "39535be3",
   "metadata": {},
   "outputs": [
    {
     "name": "stdout",
     "output_type": "stream",
     "text": [
      "done\n"
     ]
    }
   ],
   "source": [
    "#loop\n",
    "n=11\n",
    "while n <= 10:\n",
    " print (n)\n",
    " n = n+1\n",
    "print (\"done\")\n"
   ]
  },
  {
   "cell_type": "code",
   "execution_count": 10,
   "id": "3b873a41",
   "metadata": {},
   "outputs": [
    {
     "name": "stdout",
     "output_type": "stream",
     "text": [
      "1\n",
      "2\n",
      "3\n",
      "4\n",
      "5\n",
      "6\n",
      "7\n",
      "8\n",
      "9\n",
      "done\n"
     ]
    }
   ],
   "source": [
    "n=1\n",
    "while n < 10:\n",
    " print (n)\n",
    " n = n+1\n",
    "print (\"done\")"
   ]
  },
  {
   "cell_type": "code",
   "execution_count": 13,
   "id": "7a948718",
   "metadata": {},
   "outputs": [
    {
     "name": "stdout",
     "output_type": "stream",
     "text": [
      "1\n",
      "2\n",
      "3\n",
      "4\n",
      "5\n",
      "Done\n"
     ]
    }
   ],
   "source": [
    "n=1\n",
    "while n<=10:\n",
    " if n==6:\n",
    "  break\n",
    " print(n)\n",
    " n=n+1\n",
    "print(\"Done\")"
   ]
  },
  {
   "cell_type": "code",
   "execution_count": null,
   "id": "9633be07",
   "metadata": {},
   "outputs": [],
   "source": [
    "n=1\n",
    "while n<=10:\n",
    " if n==6:\n",
    "    n=n+1\n",
    "    continue\n",
    "  print(n)  \n",
    "  n=n+1\n",
    "print (\"done\")\n"
   ]
  },
  {
   "cell_type": "code",
   "execution_count": null,
   "id": "6b57e0cf",
   "metadata": {},
   "outputs": [],
   "source": [
    "n=1\n",
    "while n <= 10: \n",
    " if n==6:\n",
    "     n = n+1\n",
    "    continue\n",
    "  print)(n)\n",
    "  n=n+1\n",
    "   "
   ]
  },
  {
   "cell_type": "code",
   "execution_count": null,
   "id": "98ec4e5a",
   "metadata": {},
   "outputs": [],
   "source": [
    "n=1\n",
    "while n <= 10: \n",
    " if n==6:\n",
    "  n = n+1\n",
    "  continue\n",
    " print(n)\n",
    " n=n+1\n",
    "Print(\"Done\")\n",
    "   "
   ]
  },
  {
   "cell_type": "code",
   "execution_count": null,
   "id": "a7d08c18",
   "metadata": {},
   "outputs": [],
   "source": []
  },
  {
   "cell_type": "code",
   "execution_count": null,
   "id": "d956581b",
   "metadata": {},
   "outputs": [],
   "source": [
    "for i in range(4,20,2)\n",
    "print(i)"
   ]
  },
  {
   "cell_type": "code",
   "execution_count": null,
   "id": "d7b1f02c",
   "metadata": {},
   "outputs": [],
   "source": []
  },
  {
   "cell_type": "code",
   "execution_count": null,
   "id": "ce1e88c0",
   "metadata": {},
   "outputs": [],
   "source": []
  }
 ],
 "metadata": {
  "kernelspec": {
   "display_name": "Python 3 (ipykernel)",
   "language": "python",
   "name": "python3"
  },
  "language_info": {
   "codemirror_mode": {
    "name": "ipython",
    "version": 3
   },
   "file_extension": ".py",
   "mimetype": "text/x-python",
   "name": "python",
   "nbconvert_exporter": "python",
   "pygments_lexer": "ipython3",
   "version": "3.10.10"
  }
 },
 "nbformat": 4,
 "nbformat_minor": 5
}
